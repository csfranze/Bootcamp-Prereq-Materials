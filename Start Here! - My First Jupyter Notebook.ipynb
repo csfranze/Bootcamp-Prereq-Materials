{
 "cells": [
  {
   "cell_type": "markdown",
   "metadata": {},
   "source": [
    "# My First Jupyter Notebook\n",
    "\n",
    "Hi there!\n",
    "\n",
    "If you've never used a jupyter notebook before I'm glad you stopped in.\n",
    "\n",
    "Jupyter notebooks are nice for exploring and teaching `python`. This is because you can have a chunk where you write something like this chunk."
   ]
  },
  {
   "cell_type": "code",
   "execution_count": 1,
   "metadata": {},
   "outputs": [
    {
     "name": "stdout",
     "output_type": "stream",
     "text": [
      "Hi Friend\n"
     ]
    }
   ],
   "source": [
    "# Or a chunk where you write code in python like this one\n",
    "print(\"Hi Friend\")\n",
    "\n",
    "# Click on this block and hit Shift + Enter"
   ]
  },
  {
   "cell_type": "markdown",
   "metadata": {},
   "source": [
    "Way to go you just ran some `python` code.\n",
    "\n",
    "We'll be using jupyter notebooks for a large portion of the course. So get comfortable!\n",
    "\n",
    "Feel free to play around in the empty code chunks below. Then go ahead and get started on the rest of the prerequisite materials."
   ]
  },
  {
   "cell_type": "code",
   "execution_count": null,
   "metadata": {},
   "outputs": [],
   "source": []
  }
 ],
 "metadata": {
  "kernelspec": {
   "display_name": "Python 3",
   "language": "python",
   "name": "python3"
  },
  "language_info": {
   "codemirror_mode": {
    "name": "ipython",
    "version": 3
   },
   "file_extension": ".py",
   "mimetype": "text/x-python",
   "name": "python",
   "nbconvert_exporter": "python",
   "pygments_lexer": "ipython3",
   "version": "3.7.4"
  }
 },
 "nbformat": 4,
 "nbformat_minor": 2
}
