{
 "cells": [
  {
   "cell_type": "markdown",
   "metadata": {},
   "source": [
    "# Python Basics\n",
    "\n",
    "If you know absolutely nothing about `python` start here. If you're unsure about your skills try out our Python Basics - Skill Check notebook. If you can do the exercises in that notebook you're okay.\n",
    "\n",
    "Now there are many many many intro to `python` materials on the web. So instead of making something from scratch we'll have you use an existing resouce. Work your way through the Python Tutorial at W3 Schools, <a href = \"https://www.w3schools.com/python/default.asp\">https://www.w3schools.com/python/default.asp</a>. Start at Python Intro and stop at Python String Formatting."
   ]
  }
 ],
 "metadata": {
  "kernelspec": {
   "display_name": "Python 3",
   "language": "python",
   "name": "python3"
  },
  "language_info": {
   "codemirror_mode": {
    "name": "ipython",
    "version": 3
   },
   "file_extension": ".py",
   "mimetype": "text/x-python",
   "name": "python",
   "nbconvert_exporter": "python",
   "pygments_lexer": "ipython3",
   "version": "3.7.4"
  }
 },
 "nbformat": 4,
 "nbformat_minor": 2
}
