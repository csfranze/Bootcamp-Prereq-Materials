{
 "cells": [
  {
   "cell_type": "markdown",
   "metadata": {},
   "source": [
    "## Notebook Outcomes\n",
    "\n",
    "In this notebook we will learn:\n",
    "<ul>\n",
    "    <li>What is numpy and what is it good for</li> \n",
    "    <li>what are numpy arrays</li> \n",
    "    <li>functions on arrays</li> \n",
    "    <li>random number generation and stats</li> \n",
    "    <li>linear algebra</li>\n",
    "</ul>"
   ]
  },
  {
   "cell_type": "markdown",
   "metadata": {},
   "source": [
    "# `numpy`\n",
    "\n",
    "`numpy` is another very popular package in the world of data science and machine learning. It is short for Numerical Python, and is one of the most important foundational packages for numerical computing in `python`.\n",
    "\n",
    "Let's start off by importing the package."
   ]
  },
  {
   "cell_type": "code",
   "execution_count": 1,
   "metadata": {},
   "outputs": [],
   "source": [
    "# It is standard to import numpy as np\n",
    "import numpy as np"
   ]
  },
  {
   "cell_type": "markdown",
   "metadata": {},
   "source": [
    "### `numpy`'s ndarray\n",
    "\n",
    "The `numpy` data object is know as an `ndarray` it is similar to a list"
   ]
  },
  {
   "cell_type": "code",
   "execution_count": 2,
   "metadata": {},
   "outputs": [
    {
     "name": "stdout",
     "output_type": "stream",
     "text": [
      "[1 2 3 4]\n",
      "\n",
      "<class 'numpy.ndarray'>\n"
     ]
    }
   ],
   "source": [
    "# You can make an array with np.array\n",
    "array1 = np.array([1,2,3,4])\n",
    "print(array1)\n",
    "print()\n",
    "print(type(array1))"
   ]
  },
  {
   "cell_type": "markdown",
   "metadata": {},
   "source": [
    "but it can have any finite number dimensions."
   ]
  },
  {
   "cell_type": "code",
   "execution_count": 3,
   "metadata": {},
   "outputs": [
    {
     "name": "stdout",
     "output_type": "stream",
     "text": [
      "[[1 2]\n",
      " [2 1]]\n",
      "\n",
      "array2 is a (2, 2) ndarray\n"
     ]
    }
   ],
   "source": [
    "array2 = np.array([[1,2],[2,1]])\n",
    "print(array2)\n",
    "print()\n",
    "# np.shape() will give you the dimensions of the array\n",
    "# array2 is a 2 by 2 array\n",
    "print(\"array2 is a\",np.shape(array2),\"ndarray\")"
   ]
  },
  {
   "cell_type": "code",
   "execution_count": 4,
   "metadata": {},
   "outputs": [
    {
     "name": "stdout",
     "output_type": "stream",
     "text": [
      "[[[1 2]\n",
      "  [2 1]]\n",
      "\n",
      " [[2 3]\n",
      "  [3 2]]]\n",
      "\n",
      "array3 is a (2, 2, 2) ndarray\n"
     ]
    }
   ],
   "source": [
    "array3 = np.array([[[1,2],[2,1]],[[2,3],[3,2]]])\n",
    "print(array3)\n",
    "print()\n",
    "print(\"array3 is a\",np.shape(array3),\"ndarray\")"
   ]
  },
  {
   "cell_type": "markdown",
   "metadata": {},
   "source": [
    "We can keep going if we want to"
   ]
  },
  {
   "cell_type": "code",
   "execution_count": null,
   "metadata": {},
   "outputs": [],
   "source": [
    "## Practice\n",
    "## Make a 4 dimensional array and store it in array4\n",
    "\n",
    "\n",
    "\n",
    "\n",
    "\n",
    "\n",
    "\n"
   ]
  },
  {
   "cell_type": "markdown",
   "metadata": {},
   "source": [
    "#### Other Array Generators\n",
    "\n",
    "As we've seen you can make arrays out of lists and lists of lists. There are also a number of built in array generators."
   ]
  },
  {
   "cell_type": "code",
   "execution_count": 5,
   "metadata": {},
   "outputs": [
    {
     "data": {
      "text/plain": [
       "array([[[3.10503618e+231, 2.00389562e+000],\n",
       "        [1.97626258e-323, 0.00000000e+000]],\n",
       "\n",
       "       [[0.00000000e+000, 0.00000000e+000],\n",
       "        [0.00000000e+000, 5.56268465e-309]]])"
      ]
     },
     "execution_count": 5,
     "metadata": {},
     "output_type": "execute_result"
    }
   ],
   "source": [
    "# We can make an empty array\n",
    "# np.empty(array_shape)\n",
    "np.empty((2,2,2))"
   ]
  },
  {
   "cell_type": "code",
   "execution_count": 6,
   "metadata": {},
   "outputs": [
    {
     "data": {
      "text/plain": [
       "array([1., 1., 1., 1., 1., 1., 1., 1., 1., 1., 1., 1.])"
      ]
     },
     "execution_count": 6,
     "metadata": {},
     "output_type": "execute_result"
    }
   ],
   "source": [
    "# We can make an array of all ones\n",
    "# np.ones(array_shape)\n",
    "np.ones(12)"
   ]
  },
  {
   "cell_type": "code",
   "execution_count": 7,
   "metadata": {},
   "outputs": [
    {
     "data": {
      "text/plain": [
       "array([[0., 0., 0., 0.],\n",
       "       [0., 0., 0., 0.],\n",
       "       [0., 0., 0., 0.],\n",
       "       [0., 0., 0., 0.]])"
      ]
     },
     "execution_count": 7,
     "metadata": {},
     "output_type": "execute_result"
    }
   ],
   "source": [
    "#  An array of zeros\n",
    "# np.zeros(array_shape)\n",
    "np.zeros((4,4))"
   ]
  },
  {
   "cell_type": "code",
   "execution_count": 8,
   "metadata": {},
   "outputs": [
    {
     "data": {
      "text/plain": [
       "array([0.        , 0.11111111, 0.22222222, 0.33333333, 0.44444444,\n",
       "       0.55555556, 0.66666667, 0.77777778, 0.88888889, 1.        ])"
      ]
     },
     "execution_count": 8,
     "metadata": {},
     "output_type": "execute_result"
    }
   ],
   "source": [
    "# a 1d array for an interval\n",
    "# np.linspace(start, end, number of entries)\n",
    "np.linspace(0,1,10)"
   ]
  },
  {
   "cell_type": "code",
   "execution_count": 9,
   "metadata": {},
   "outputs": [
    {
     "data": {
      "text/plain": [
       "array([0. , 0.1, 0.2, 0.3, 0.4, 0.5, 0.6, 0.7, 0.8, 0.9, 1. , 1.1, 1.2,\n",
       "       1.3, 1.4, 1.5, 1.6, 1.7, 1.8, 1.9, 2. , 2.1, 2.2, 2.3, 2.4, 2.5,\n",
       "       2.6, 2.7, 2.8, 2.9, 3. , 3.1, 3.2, 3.3, 3.4, 3.5, 3.6, 3.7, 3.8,\n",
       "       3.9, 4. , 4.1, 4.2, 4.3, 4.4, 4.5, 4.6, 4.7, 4.8, 4.9, 5. , 5.1,\n",
       "       5.2, 5.3, 5.4, 5.5, 5.6, 5.7, 5.8, 5.9, 6. , 6.1, 6.2, 6.3, 6.4,\n",
       "       6.5, 6.6, 6.7, 6.8, 6.9, 7. , 7.1, 7.2, 7.3, 7.4, 7.5, 7.6, 7.7,\n",
       "       7.8, 7.9, 8. , 8.1, 8.2, 8.3, 8.4, 8.5, 8.6, 8.7, 8.8, 8.9, 9. ,\n",
       "       9.1, 9.2, 9.3, 9.4, 9.5, 9.6, 9.7, 9.8, 9.9])"
      ]
     },
     "execution_count": 9,
     "metadata": {},
     "output_type": "execute_result"
    }
   ],
   "source": [
    "# the numpy version of range allows \n",
    "# decimals\n",
    "# np.arange(start,end,step_size)\n",
    "np.arange(0,10,.1)"
   ]
  },
  {
   "cell_type": "code",
   "execution_count": 10,
   "metadata": {},
   "outputs": [],
   "source": [
    "# make a 2d grid\n",
    "interval = np.linspace(-2,2,100)\n",
    "\n",
    "# meshgrid takes in two intervals as arguments\n",
    "# it outputs two arrays that give every x,y\n",
    "# pair from the two intervals you enter\n",
    "xs,ys = np.meshgrid(interval,interval)\n",
    "\n",
    "# useful for calculations\n",
    "z = xs ** 2 + ys**2"
   ]
  },
  {
   "cell_type": "code",
   "execution_count": 11,
   "metadata": {},
   "outputs": [
    {
     "data": {
      "image/png": "[encoded data removed]",
      "text/plain": [
       "<Figure size 720x720 with 2 Axes>"
      ]
     },
     "metadata": {
      "needs_background": "light"
     },
     "output_type": "display_data"
    }
   ],
   "source": [
    "# A sample plot using meshgrid\n",
    "import matplotlib.pyplot as plt\n",
    "plt.figure(figsize=(10,10))\n",
    "plt.imshow(z,cmap=plt.cm.plasma)\n",
    "plt.colorbar()\n",
    "plt.title(\"Image of $x^2 + y^2$ for a grid of values\")\n",
    "plt.show()"
   ]
  },
  {
   "cell_type": "code",
   "execution_count": null,
   "metadata": {},
   "outputs": [],
   "source": [
    "## Practice\n",
    "## Using np.linspace make an interval from -1 to 3\n",
    "## store it in x\n",
    "\n",
    "\n",
    "\n",
    "\n"
   ]
  },
  {
   "cell_type": "markdown",
   "metadata": {},
   "source": [
    "#### Indexing or Slicing an ndarray\n",
    "\n",
    "Just like with lists, pandas DataFrames, or any other data structure you may want to access particular elements or subsets of an ndarray. Let's see how to do that below."
   ]
  },
  {
   "cell_type": "code",
   "execution_count": 12,
   "metadata": {},
   "outputs": [],
   "source": [
    "# a is a random 50 by 2 array\n",
    "# more on random arrays in a bit\n",
    "a = 2*np.random.random((50,2)) - 1"
   ]
  },
  {
   "cell_type": "code",
   "execution_count": 13,
   "metadata": {},
   "outputs": [
    {
     "name": "stdout",
     "output_type": "stream",
     "text": [
      "-0.5324634086712385\n",
      "\n",
      "[0.75276542 0.62835618]\n",
      "\n",
      "[ 0.64855459  0.52530882 -0.1919344  -0.08986624  0.75276542  0.66114543\n",
      "  0.27853127  0.51318195  0.58598479 -0.128242    0.22906197 -0.99749886\n",
      "  0.0525298   0.60742839 -0.54452472  0.00951541 -0.80926034 -0.68717618\n",
      " -0.31425326 -0.81565423 -0.25557139 -0.89636902 -0.79814212 -0.04388604\n",
      " -0.73087805 -0.55450299 -0.18985384  0.39088901 -0.7345211  -0.8757674\n",
      " -0.40394863  0.35038301  0.29116912  0.50059154 -0.70559428  0.60146391\n",
      "  0.41219931 -0.6631436   0.53561723  0.50578633 -0.93041858  0.25611191\n",
      " -0.9945406   0.43701906  0.59807844  0.71483969 -0.33298374  0.09205848\n",
      " -0.00830787  0.91176251]\n"
     ]
    }
   ],
   "source": [
    "# I can get an individual entry like so\n",
    "# the 1 row and 1 column entry\n",
    "print(a[1,1])\n",
    "print()\n",
    "# the entire 4th row\n",
    "print(a[4,:])\n",
    "print()\n",
    "# The entire 0th column\n",
    "# note despite being a column it is output as a row vector\n",
    "print(a[:,0])"
   ]
  },
  {
   "cell_type": "code",
   "execution_count": 14,
   "metadata": {},
   "outputs": [
    {
     "data": {
      "text/plain": [
       "array([[ 0.52530882, -0.53246341],\n",
       "       [-0.1919344 ,  0.67172352],\n",
       "       [-0.08986624,  0.58074068]])"
      ]
     },
     "execution_count": 14,
     "metadata": {},
     "output_type": "execute_result"
    }
   ],
   "source": [
    "# You can get a slice of a as well\n",
    "# the 1 through 4 rows\n",
    "a[1:4,:]"
   ]
  },
  {
   "cell_type": "code",
   "execution_count": 15,
   "metadata": {},
   "outputs": [
    {
     "data": {
      "text/plain": [
       "array([0.64855459, 0.52530882, 0.67172352, 0.58074068, 0.75276542,\n",
       "       0.62835618, 0.66114543, 0.63003425, 0.27853127, 0.51318195,\n",
       "       0.04748364, 0.58598479, 0.96945926, 0.22906197, 0.22292967,\n",
       "       0.0525298 , 0.60590262, 0.60742839, 0.92967461, 0.72901232,\n",
       "       0.00951541, 0.50486032, 0.03277295, 0.62715002, 0.59703318,\n",
       "       0.9755093 , 0.79623248, 0.46182339, 0.15353064, 0.50921647,\n",
       "       0.39088901, 0.52767466, 0.25325586, 0.35038301, 0.29116912,\n",
       "       0.50059154, 0.91411832, 0.47614654, 0.60146391, 0.33867358,\n",
       "       0.41219931, 0.83291369, 0.98675309, 0.53561723, 0.11476251,\n",
       "       0.50578633, 0.93999061, 0.25611191, 0.43701906, 0.4148597 ,\n",
       "       0.59807844, 0.71483969, 0.09205848, 0.91176251])"
      ]
     },
     "execution_count": 15,
     "metadata": {},
     "output_type": "execute_result"
    }
   ],
   "source": [
    "# You can index by logical conditions\n",
    "# Every entry of a where a is positive\n",
    "# Returned as a 1d array\n",
    "a[a>0]"
   ]
  },
  {
   "cell_type": "code",
   "execution_count": 16,
   "metadata": {},
   "outputs": [
    {
     "data": {
      "text/plain": [
       "array([[ 0.64855459, -0.99501864],\n",
       "       [ 0.52530882, -0.53246341],\n",
       "       [ 0.27853127, -0.88138386],\n",
       "       [ 0.58598479, -0.76941233],\n",
       "       [ 0.22906197, -0.36632162],\n",
       "       [ 0.35038301, -0.14342032],\n",
       "       [ 0.29116912, -0.33689187],\n",
       "       [ 0.25611191, -0.36466065],\n",
       "       [ 0.59807844, -0.89131941],\n",
       "       [ 0.71483969, -0.79096562],\n",
       "       [ 0.09205848, -0.85522409],\n",
       "       [ 0.91176251, -0.84736898]])"
      ]
     },
     "execution_count": 16,
     "metadata": {},
     "output_type": "execute_result"
    }
   ],
   "source": [
    "# Only rows where the 0th columns is positive\n",
    "# and the 1 column is negative\n",
    "a[(a[:,0]>0) & (a[:,1] <0),:]"
   ]
  },
  {
   "cell_type": "code",
   "execution_count": null,
   "metadata": {},
   "outputs": [],
   "source": [
    "## Practice\n",
    "## Find all rows where the 1 column is greater than .25\n",
    "## or the 0 column is less than .25\n",
    "\n",
    "\n",
    "\n",
    "\n",
    "\n",
    "\n"
   ]
  },
  {
   "cell_type": "markdown",
   "metadata": {},
   "source": [
    "### Functions on ndarrays\n",
    "\n",
    "ndarrays are nice because unlike base `python` lists and arrays `numpy` has been designed to allow very fast elementwise operations."
   ]
  },
  {
   "cell_type": "code",
   "execution_count": 17,
   "metadata": {},
   "outputs": [
    {
     "data": {
      "text/plain": [
       "[1, 2, 2, 3]"
      ]
     },
     "execution_count": 17,
     "metadata": {},
     "output_type": "execute_result"
    }
   ],
   "source": [
    "## Practice\n",
    "## What happens here\n",
    "[1,2] + [2,3]"
   ]
  },
  {
   "cell_type": "code",
   "execution_count": 18,
   "metadata": {},
   "outputs": [
    {
     "data": {
      "text/plain": [
       "array([3, 5])"
      ]
     },
     "execution_count": 18,
     "metadata": {},
     "output_type": "execute_result"
    }
   ],
   "source": [
    "## What about here?\n",
    "np.array([1,2]) + np.array([2,3])"
   ]
  },
  {
   "cell_type": "code",
   "execution_count": 19,
   "metadata": {},
   "outputs": [
    {
     "data": {
      "text/plain": [
       "[3, 4, 3, 4]"
      ]
     },
     "execution_count": 19,
     "metadata": {},
     "output_type": "execute_result"
    }
   ],
   "source": [
    "## What happens here\n",
    "2 * [3,4]"
   ]
  },
  {
   "cell_type": "code",
   "execution_count": 20,
   "metadata": {},
   "outputs": [
    {
     "data": {
      "text/plain": [
       "array([6, 8])"
      ]
     },
     "execution_count": 20,
     "metadata": {},
     "output_type": "execute_result"
    }
   ],
   "source": [
    "## What about here?\n",
    "2*np.array([3,4])"
   ]
  },
  {
   "cell_type": "code",
   "execution_count": 21,
   "metadata": {},
   "outputs": [
    {
     "ename": "TypeError",
     "evalue": "can only concatenate list (not \"int\") to list",
     "output_type": "error",
     "traceback": [
      "\u001b[0;31m---------------------------------------------------------------------------\u001b[0m",
      "\u001b[0;31mTypeError\u001b[0m                                 Traceback (most recent call last)",
      "\u001b[0;32m<ipython-input-21-a48afad64ff8>\u001b[0m in \u001b[0;36m<module>\u001b[0;34m\u001b[0m\n\u001b[1;32m      1\u001b[0m \u001b[0;31m# Okay how about\u001b[0m\u001b[0;34m\u001b[0m\u001b[0;34m\u001b[0m\u001b[0;34m\u001b[0m\u001b[0m\n\u001b[0;32m----> 2\u001b[0;31m \u001b[0my\u001b[0m \u001b[0;34m=\u001b[0m \u001b[0;36m3\u001b[0m\u001b[0;34m*\u001b[0m\u001b[0;34m[\u001b[0m\u001b[0;36m1\u001b[0m\u001b[0;34m,\u001b[0m\u001b[0;36m2\u001b[0m\u001b[0;34m,\u001b[0m\u001b[0;36m3\u001b[0m\u001b[0;34m]\u001b[0m \u001b[0;34m+\u001b[0m \u001b[0;36m2\u001b[0m\u001b[0;34m\u001b[0m\u001b[0;34m\u001b[0m\u001b[0m\n\u001b[0m",
      "\u001b[0;31mTypeError\u001b[0m: can only concatenate list (not \"int\") to list"
     ]
    }
   ],
   "source": [
    "# Okay how about\n",
    "y = 3*[1,2,3] + 2"
   ]
  },
  {
   "cell_type": "code",
   "execution_count": 22,
   "metadata": {},
   "outputs": [],
   "source": [
    "# and this?\n",
    "y = 3*np.array([1,2,3]) + 2"
   ]
  },
  {
   "cell_type": "code",
   "execution_count": 23,
   "metadata": {},
   "outputs": [
    {
     "ename": "NameError",
     "evalue": "name 'x' is not defined",
     "output_type": "error",
     "traceback": [
      "\u001b[0;31m---------------------------------------------------------------------------\u001b[0m",
      "\u001b[0;31mNameError\u001b[0m                                 Traceback (most recent call last)",
      "\u001b[0;32m<ipython-input-23-ed6edb935f4d>\u001b[0m in \u001b[0;36m<module>\u001b[0;34m\u001b[0m\n\u001b[1;32m      3\u001b[0m \u001b[0;31m# absolute value\u001b[0m\u001b[0;34m\u001b[0m\u001b[0;34m\u001b[0m\u001b[0;34m\u001b[0m\u001b[0m\n\u001b[1;32m      4\u001b[0m \u001b[0;31m# This is the x from your earlier practice block\u001b[0m\u001b[0;34m\u001b[0m\u001b[0;34m\u001b[0m\u001b[0;34m\u001b[0m\u001b[0m\n\u001b[0;32m----> 5\u001b[0;31m \u001b[0mnp\u001b[0m\u001b[0;34m.\u001b[0m\u001b[0mabs\u001b[0m\u001b[0;34m(\u001b[0m\u001b[0mx\u001b[0m\u001b[0;34m)\u001b[0m\u001b[0;34m\u001b[0m\u001b[0;34m\u001b[0m\u001b[0m\n\u001b[0m",
      "\u001b[0;31mNameError\u001b[0m: name 'x' is not defined"
     ]
    }
   ],
   "source": [
    "# There are even a number of popular\n",
    "# built in math functions for ndarray\n",
    "# absolute value\n",
    "# This is the x from your earlier practice block\n",
    "np.abs(x)"
   ]
  },
  {
   "cell_type": "code",
   "execution_count": null,
   "metadata": {},
   "outputs": [],
   "source": [
    "# square root\n",
    "np.sqrt(np.abs(x))"
   ]
  },
  {
   "cell_type": "code",
   "execution_count": null,
   "metadata": {},
   "outputs": [],
   "source": [
    "# the floor function\n",
    "np.floor(x)"
   ]
  },
  {
   "cell_type": "code",
   "execution_count": null,
   "metadata": {},
   "outputs": [],
   "source": [
    "## Practice\n",
    "## using np.exp define y to be \n",
    "## e^(x+3) + log(|x|+1)\n",
    "\n",
    "\n",
    "\n",
    "\n",
    "\n"
   ]
  },
  {
   "cell_type": "markdown",
   "metadata": {},
   "source": [
    "### Pseudorandom ndarrays and Stat Functions\n",
    "\n",
    "`numpy` is useful for generating random numbers as well. We can look at common statistics of arrays too."
   ]
  },
  {
   "cell_type": "code",
   "execution_count": 24,
   "metadata": {},
   "outputs": [
    {
     "data": {
      "text/plain": [
       "0.8754806636351538"
      ]
     },
     "execution_count": 24,
     "metadata": {},
     "output_type": "execute_result"
    }
   ],
   "source": [
    "# random generators are stored in np.random\n",
    "# a np.random.random() gives a uniform random number in [0,1]\n",
    "np.random.random()"
   ]
  },
  {
   "cell_type": "code",
   "execution_count": 25,
   "metadata": {},
   "outputs": [
    {
     "name": "stdout",
     "output_type": "stream",
     "text": [
      "0.48179840675004487\n",
      "\n"
     ]
    },
    {
     "data": {
      "text/plain": [
       "array([[ 0.3152231 ,  0.22329043],\n",
       "       [-0.29834916,  0.20690353],\n",
       "       [ 0.20048808, -0.55790481],\n",
       "       [ 0.85353294, -0.49113987],\n",
       "       [ 0.32208004,  1.08283755],\n",
       "       [-1.29418768, -0.12733659],\n",
       "       [-2.94244442,  0.91623329],\n",
       "       [ 1.37948279, -0.56352919],\n",
       "       [ 1.58615097,  1.9771604 ],\n",
       "       [-1.16646565,  0.54788501]])"
      ]
     },
     "execution_count": 25,
     "metadata": {},
     "output_type": "execute_result"
    }
   ],
   "source": [
    "# np.random.randn() is a normal(0,1) number\n",
    "# a single draw\n",
    "print(np.random.randn())\n",
    "print()\n",
    "\n",
    "# an array of draws\n",
    "np.random.randn(10,2)"
   ]
  },
  {
   "cell_type": "code",
   "execution_count": 26,
   "metadata": {},
   "outputs": [
    {
     "data": {
      "text/plain": [
       "array([[2, 0, 1, 1, 1, 1, 2, 3, 2, 1],\n",
       "       [1, 2, 1, 1, 0, 3, 1, 2, 1, 1],\n",
       "       [3, 4, 2, 1, 0, 2, 1, 2, 0, 0],\n",
       "       [1, 1, 3, 1, 1, 1, 1, 1, 2, 2],\n",
       "       [1, 2, 1, 1, 0, 1, 2, 0, 1, 3],\n",
       "       [2, 1, 0, 2, 3, 0, 1, 1, 0, 0],\n",
       "       [2, 0, 1, 0, 4, 2, 1, 3, 1, 2],\n",
       "       [1, 1, 1, 1, 1, 0, 1, 1, 1, 1],\n",
       "       [2, 0, 2, 0, 0, 2, 1, 1, 1, 0],\n",
       "       [0, 1, 0, 2, 1, 1, 1, 1, 2, 2]])"
      ]
     },
     "execution_count": 26,
     "metadata": {},
     "output_type": "execute_result"
    }
   ],
   "source": [
    "# np.random.binomial()\n",
    "# an array of binomial(n,p) outcomes\n",
    "np.random.binomial(n=4,p=.3,size=(10,10))"
   ]
  },
  {
   "cell_type": "code",
   "execution_count": 27,
   "metadata": {},
   "outputs": [],
   "source": [
    "## Practice\n",
    "# make a 20 by 3 array of random normal draws\n",
    "# call it X\n",
    "X = np.random.randn(20,3)\n",
    "\n",
    "\n",
    "\n",
    "\n"
   ]
  },
  {
   "cell_type": "code",
   "execution_count": 28,
   "metadata": {},
   "outputs": [
    {
     "name": "stdout",
     "output_type": "stream",
     "text": [
      "0.07325403397312943\n",
      "\n",
      "[ 0.12151062 -0.12300578  0.22125726]\n",
      "\n",
      "[-0.40451325  0.21503536 -0.16245428  1.06128827  0.09386512 -0.84139921\n",
      "  0.14709143  0.35557637 -0.35658754 -0.22452307  0.89553907  0.18516912\n",
      " -0.79809112 -0.91258557  0.71362716  1.17326781 -0.22636177 -0.77584132\n",
      "  1.44896612 -0.121988  ]\n"
     ]
    }
   ],
   "source": [
    "# We can use np.mean to get the overall\n",
    "# array mean\n",
    "print(np.mean(X))\n",
    "print()\n",
    "\n",
    "# or the row mean\n",
    "print(np.mean(X,axis=0))\n",
    "print()\n",
    "\n",
    "# or the column mean\n",
    "# again output as a row vector\n",
    "print(np.mean(X,axis=1))"
   ]
  },
  {
   "cell_type": "markdown",
   "metadata": {},
   "source": [
    "Other common functions are `np.std()` for standard deviation, `np.sum()` for sum, `np.var()` for variance, `np.min()` for min, `np.max()` for max, `np.argmin()` for where the min occurs, `np.argmax()` for where the max occurs."
   ]
  },
  {
   "cell_type": "code",
   "execution_count": null,
   "metadata": {},
   "outputs": [],
   "source": [
    "## Practice\n",
    "## where does the max value occur in each column of X?\n",
    "\n",
    "\n",
    "\n",
    "\n"
   ]
  },
  {
   "cell_type": "code",
   "execution_count": 29,
   "metadata": {},
   "outputs": [
    {
     "data": {
      "text/plain": [
       "array([0.60795473, 0.80238196, 1.37744971, 2.21957774, 2.48132877,\n",
       "       2.93397625, 3.0121788 , 3.76345669, 4.18047489, 4.97750247])"
      ]
     },
     "execution_count": 29,
     "metadata": {},
     "output_type": "execute_result"
    }
   ],
   "source": [
    "# Another useful function is np.cumsum()\n",
    "x = np.random.random(10)\n",
    "\n",
    "np.cumsum(x)\n",
    "\n",
    "# What do you think it does?"
   ]
  },
  {
   "cell_type": "markdown",
   "metadata": {},
   "source": [
    "### Linear Algebra with `numpy`\n",
    "\n",
    "A final important use for us is `numpy` as a way to perform linear algebra calculations."
   ]
  },
  {
   "cell_type": "code",
   "execution_count": 30,
   "metadata": {},
   "outputs": [
    {
     "data": {
      "text/plain": [
       "array([[2, 1],\n",
       "       [2, 3]])"
      ]
     },
     "execution_count": 30,
     "metadata": {},
     "output_type": "execute_result"
    }
   ],
   "source": [
    "# We can think of a 2D array as a matrix\n",
    "A = np.random.binomial(n=4,p=.3,size=(2,2))\n",
    "\n",
    "A"
   ]
  },
  {
   "cell_type": "code",
   "execution_count": 31,
   "metadata": {},
   "outputs": [
    {
     "data": {
      "text/plain": [
       "array([1, 2])"
      ]
     },
     "execution_count": 31,
     "metadata": {},
     "output_type": "execute_result"
    }
   ],
   "source": [
    "# A 1d array can be a row vector\n",
    "x = np.array([1,2])\n",
    "x"
   ]
  },
  {
   "cell_type": "code",
   "execution_count": 32,
   "metadata": {},
   "outputs": [
    {
     "data": {
      "text/plain": [
       "array([[1],\n",
       "       [2]])"
      ]
     },
     "execution_count": 32,
     "metadata": {},
     "output_type": "execute_result"
    }
   ],
   "source": [
    "# or a column vector\n",
    "x.reshape(-1,1)"
   ]
  },
  {
   "cell_type": "code",
   "execution_count": 33,
   "metadata": {},
   "outputs": [
    {
     "data": {
      "text/plain": [
       "array([[4],\n",
       "       [8]])"
      ]
     },
     "execution_count": 33,
     "metadata": {},
     "output_type": "execute_result"
    }
   ],
   "source": [
    "# We can now calculate A*x\n",
    "# matrix.dot() is used for matrix mult\n",
    "A.dot(x.reshape(-1,1))"
   ]
  },
  {
   "cell_type": "code",
   "execution_count": 34,
   "metadata": {},
   "outputs": [],
   "source": [
    "## Practice\n",
    "# Take the matrix B and multiply it with a column\n",
    "# vector of 1s\n",
    "B = np.random.binomial(n=5,p=.6,size=(3,3))\n",
    "\n",
    "\n",
    "\n",
    "\n",
    "\n"
   ]
  },
  {
   "cell_type": "code",
   "execution_count": 35,
   "metadata": {},
   "outputs": [],
   "source": [
    "# numpy.linalg contains a number of useful\n",
    "# matrix operations\n",
    "from numpy.linalg import inv, eig, det"
   ]
  },
  {
   "cell_type": "code",
   "execution_count": 36,
   "metadata": {},
   "outputs": [
    {
     "data": {
      "text/plain": [
       "array([[ 0.75, -0.25],\n",
       "       [-0.5 ,  0.5 ]])"
      ]
     },
     "execution_count": 36,
     "metadata": {},
     "output_type": "execute_result"
    }
   ],
   "source": [
    "# the inverse of A\n",
    "inv(A)"
   ]
  },
  {
   "cell_type": "code",
   "execution_count": 37,
   "metadata": {},
   "outputs": [
    {
     "data": {
      "text/plain": [
       "4.0"
      ]
     },
     "execution_count": 37,
     "metadata": {},
     "output_type": "execute_result"
    }
   ],
   "source": [
    "# the det of A\n",
    "det(A)"
   ]
  },
  {
   "cell_type": "code",
   "execution_count": 38,
   "metadata": {},
   "outputs": [
    {
     "data": {
      "text/plain": [
       "(array([1., 4.]),\n",
       " array([[-0.70710678, -0.4472136 ],\n",
       "        [ 0.70710678, -0.89442719]]))"
      ]
     },
     "execution_count": 38,
     "metadata": {},
     "output_type": "execute_result"
    }
   ],
   "source": [
    "# the eigenvalues and eigenvectors of A\n",
    "eig(A)"
   ]
  },
  {
   "cell_type": "code",
   "execution_count": 39,
   "metadata": {},
   "outputs": [
    {
     "data": {
      "text/plain": [
       "array([[2, 2],\n",
       "       [1, 3]])"
      ]
     },
     "execution_count": 39,
     "metadata": {},
     "output_type": "execute_result"
    }
   ],
   "source": [
    "# matrix.transpose() computes the transpose of the matrix\n",
    "A.transpose()"
   ]
  },
  {
   "cell_type": "code",
   "execution_count": null,
   "metadata": {},
   "outputs": [],
   "source": [
    "## Practice\n",
    "b = np.array([2,5]).reshape(-1,1)\n",
    "\n",
    "## Solve Ax = b for x\n",
    "\n"
   ]
  },
  {
   "cell_type": "markdown",
   "metadata": {},
   "source": [
    "That's it!\n",
    "\n",
    "You should now try to see if you can solve the numpy - Skill Check notebook."
   ]
  },
  {
   "cell_type": "code",
   "execution_count": null,
   "metadata": {},
   "outputs": [],
   "source": []
  }
 ],
 "metadata": {
  "kernelspec": {
   "display_name": "Python 3",
   "language": "python",
   "name": "python3"
  },
  "language_info": {
   "codemirror_mode": {
    "name": "ipython",
    "version": 3
   },
   "file_extension": ".py",
   "mimetype": "text/x-python",
   "name": "python",
   "nbconvert_exporter": "python",
   "pygments_lexer": "ipython3",
   "version": "3.7.6"
  }
 },
 "nbformat": 4,
 "nbformat_minor": 4
}
